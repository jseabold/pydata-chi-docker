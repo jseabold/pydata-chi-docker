{
 "cells": [
  {
   "cell_type": "code",
   "execution_count": 9,
   "metadata": {
    "slideshow": {
     "slide_type": "skip"
    }
   },
   "outputs": [
    {
     "data": {
      "text/plain": [
       "{'height': 800, 'width': 1200}"
      ]
     },
     "execution_count": 9,
     "metadata": {},
     "output_type": "execute_result"
    }
   ],
   "source": [
    "from traitlets.config.manager import BaseJSONConfigManager\n",
    "path = \"/.jupyter/nbconfig\"\n",
    "cm = BaseJSONConfigManager(config_dir=path)\n",
    "\n",
    "cm.update('livereveal', {\n",
    "              'width': 1200,\n",
    "              'height': 800,\n",
    "})"
   ]
  },
  {
   "cell_type": "markdown",
   "metadata": {
    "slideshow": {
     "slide_type": "slide"
    }
   },
   "source": [
    "# About Me\n",
    "\n",
    "* Lead Data Scientist at [Civis Analytics](https://civisanalytics.com/)\n",
    "* [@jseabold](https://twitter.com/jseabold/) on Twitter\n",
    "* [jseabold](https://github.com/jseabold) on GitHub\n",
    "* [https://github.com/jseabold/pydata-chi-docker](https://github.com/jseabold/pydata-chi-docker)"
   ]
  },
  {
   "cell_type": "markdown",
   "metadata": {
    "slideshow": {
     "slide_type": "slide"
    }
   },
   "source": [
    "# Docker for Data Science"
   ]
  },
  {
   "cell_type": "markdown",
   "metadata": {
    "slideshow": {
     "slide_type": "subslide"
    }
   },
   "source": [
    "## Docker Introduction\n",
    "\n",
    "* Docker is a platform for running applications in software containers\n",
    "* Containers are an implementation of operating-system-level virtualization\n",
    "* Enabled by features in the Linux kernel"
   ]
  },
  {
   "cell_type": "markdown",
   "metadata": {
    "slideshow": {
     "slide_type": "subslide"
    }
   },
   "source": [
    "## What does using Docker offer?\n",
    "\n",
    "* Reproducibility\n",
    "* Portability / working environments\n",
    "* Reduces need for complex installations\n",
    "* Easier testing / debugging\n",
    "* Resource management\n",
    "* Easier networking between services"
   ]
  },
  {
   "cell_type": "markdown",
   "metadata": {
    "slideshow": {
     "slide_type": "subslide"
    }
   },
   "source": [
    "# That sounds like a Virtual Machine"
   ]
  },
  {
   "cell_type": "markdown",
   "metadata": {
    "slideshow": {
     "slide_type": "subslide"
    }
   },
   "source": [
    "## Example Workflow\n",
    "\n",
    "```shell\n",
    "docker build -t jseabold/dask-jupyter .\n",
    "docker push jseabold/dask-jupyter\n",
    "docker run --detach \\\n",
    "           --publish 8888:8888 \\\n",
    "           --volume $(pwd)/notebooks:/notebooks \\\n",
    "           --working-dir /notebooks \\\n",
    "           jseabold/dask-jupyter\n",
    "```"
   ]
  },
  {
   "cell_type": "markdown",
   "metadata": {
    "slideshow": {
     "slide_type": "subslide"
    }
   },
   "source": [
    "## Why not Virtual Machines?\n",
    "\n",
    "* A computer simulated in software\n",
    "* Kind of slow\n",
    "* Pretty big\n",
    "* Takes time to provision, bring down, resume, etc.\n",
    "* The ~\\*~\\*~ cloud ~\\*~\\*~\n",
    "  * Cheap and easy to provision new machines\n",
    "  * Happens more often\n",
    "  * Services start to be spread across hosts"
   ]
  },
  {
   "cell_type": "markdown",
   "metadata": {
    "slideshow": {
     "slide_type": "subslide"
    }
   },
   "source": [
    "# History of OS-level Virtualization\n",
    "\n",
    "* chroot (1979)\n",
    "  - Change the apparent root directory for the current running process and its children\n",
    "* namespaces (2002)\n",
    "* Solaris Containers \"chroot on steroids\" (2004)\n",
    "* control groups (google, 2006)\n",
    "  * LXC (2009)\n",
    "* copy-on-write\n",
    "* Linux Containers (LXC, 2008)\n",
    "* Docker (2013)"
   ]
  },
  {
   "cell_type": "markdown",
   "metadata": {
    "slideshow": {
     "slide_type": "subslide"
    }
   },
   "source": [
    "## What Makes Up a Container\n",
    "\n",
    "* Control groups\n",
    "* Namespaces\n",
    "* copy-on-write storage"
   ]
  },
  {
   "cell_type": "markdown",
   "metadata": {
    "slideshow": {
     "slide_type": "subslide"
    }
   },
   "source": [
    "# True Confessions\n",
    "\n",
    "![Containers How Do They Work](container_tweet.png)\n"
   ]
  },
  {
   "cell_type": "markdown",
   "metadata": {
    "slideshow": {
     "slide_type": "slide"
    }
   },
   "source": [
    "# Linux Nuts and Bolts\n"
   ]
  },
  {
   "cell_type": "markdown",
   "metadata": {
    "slideshow": {
     "slide_type": "subslide"
    }
   },
   "source": [
    "## Linux Process Model\n",
    "\n",
    "* A process, or *task*, is an executing instance of a program\n",
    "* New processes are created (cloned) by the system call *fork*\n",
    "  * This *copies* the current process and creates a child process with a link to the current parent process\n",
    "  * The address space comes along / only copied on modification\n",
    "* Python exposes these OS primitives in `os` and `multiprocessing`, for example\n",
    "* Processes cannot live in isolation\n",
    "  * Every process has a parent (with one exception)"
   ]
  },
  {
   "cell_type": "markdown",
   "metadata": {
    "slideshow": {
     "slide_type": "subslide"
    }
   },
   "source": [
    "## Initialization Process\n",
    "\n",
    "* What happens when you boot up the linux operating system?\n",
    "* The kernel finds the initialization process and starts it\n",
    "  * Traditionally, **init** \n",
    "  * Now, commonly, **systemd**\n",
    "* Daemon running in the background \n",
    "* Direct or indirect ancestor of all processes"
   ]
  },
  {
   "cell_type": "code",
   "execution_count": 1,
   "metadata": {
    "slideshow": {
     "slide_type": "subslide"
    }
   },
   "outputs": [
    {
     "name": "stdout",
     "output_type": "stream",
     "text": [
      "systemd\r\n"
     ]
    }
   ],
   "source": [
    "!ps -q 1 -o comm="
   ]
  },
  {
   "cell_type": "markdown",
   "metadata": {
    "slideshow": {
     "slide_type": "subslide"
    }
   },
   "source": [
    "![pstree](pstree.png)"
   ]
  },
  {
   "cell_type": "markdown",
   "metadata": {
    "slideshow": {
     "slide_type": "slide"
    }
   },
   "source": [
    "# Control Groups"
   ]
  },
  {
   "cell_type": "markdown",
   "metadata": {
    "slideshow": {
     "slide_type": "subslide"
    }
   },
   "source": [
    "## What are cgroups\n",
    "\n",
    "<div style=\"font-size: 90%; line-height: 115%\">\n",
    "<br /><br />\n",
    "\"Control Groups provide a mechanism for aggregating / partitioning sets of\n",
    "tasks, and all their future children, into hierarchical groups with\n",
    "specialized behaviour.\"\n",
    "</div>\n",
    "\n",
    "* Allow allocation of resources among processes\n",
    "* Includes metering, limiting, and accounting for resources\n",
    "* Similar to processes \n",
    "  * hierarchical\n",
    "  * inherit from parent cgroups\n",
    "  * *But* many different ones can exist simultaneously"
   ]
  },
  {
   "cell_type": "markdown",
   "metadata": {
    "slideshow": {
     "slide_type": "subslide"
    }
   },
   "source": [
    "## University Server Example\n",
    "\n",
    "<div style=\"font-size: 75%\">\n",
    "```\n",
    "CPU :          \"Top cpuset\"\n",
    "                 /       \\\n",
    "         CPUSet1         CPUSet2\n",
    "            |               |\n",
    "         (Professors)    (Students)\n",
    "\n",
    "         In addition (system tasks) are attached to topcpuset (so\n",
    "         that they can run anywhere) with a limit of 20%\n",
    "\n",
    "Memory : Professors (50%), Students (30%), system (20%)\n",
    "\n",
    "Disk : Professors (50%), Students (30%), system (20%)\n",
    "\n",
    "Network : WWW browsing (20%), Network File System (60%), others (20%)\n",
    "                        / \\\n",
    "        Professors (15%)  students (5%)\n",
    "```\n",
    "</div>"
   ]
  },
  {
   "cell_type": "markdown",
   "metadata": {
    "slideshow": {
     "slide_type": "subslide"
    }
   },
   "source": [
    "## cgroup subsystems\n",
    "\n",
    "* The cgroup hierarchies are connected to one or more **subsystems**\n",
    "* blkio\n",
    "* cpu / cpuset\n",
    "* devices\n",
    "* memory\n",
    "* net_cls / net_prio\n",
    "* ..."
   ]
  },
  {
   "cell_type": "markdown",
   "metadata": {
    "slideshow": {
     "slide_type": "subslide"
    }
   },
   "source": [
    "## cpu cgroup\n",
    "\n",
    "* group processes together\n",
    "* you can set weights per cgroup that OS scheduler takes into account\n",
    "* can't set limits\n",
    "  * It doesn't make sense\n",
    "  * CPU architecture (different registers, different instructions, doesn't make sense)"
   ]
  },
  {
   "cell_type": "markdown",
   "metadata": {
    "slideshow": {
     "slide_type": "subslide"
    }
   },
   "source": [
    "## cpuset cgroup\n",
    "\n",
    "* processor affinity\n",
    "* pin groups to specific CPUS\n",
    "* reserve CPUs for specific apps"
   ]
  },
  {
   "cell_type": "markdown",
   "metadata": {
    "slideshow": {
     "slide_type": "subslide"
    }
   },
   "source": [
    "## memory cgroup\n",
    "\n",
    "* limits are optional -- soft and hard limits\n",
    "* soft limits are not enforced\n",
    "  * when pressure is strong, it looks at the cgroups above the soft limit, then you get pages taken from you by the kernel\n",
    "* limits can be set for different kinds of memory\n",
    "  * physical (RAM), kernel (dentries), total (SWAP)\n",
    "* hard limit -- process gets killed on the cgroup level\n",
    "  * it kills the process in this container\n",
    "  * this is why you want to have one service per-container"
   ]
  },
  {
   "cell_type": "markdown",
   "metadata": {
    "slideshow": {
     "slide_type": "subslide"
    }
   },
   "source": [
    "## blkio cgroup\n",
    "\n",
    "* keeps track of IO for ea. grou\n",
    "* per block devices\n",
    "* read vs write\n",
    "* sync vs async\n",
    "* set throttle (limits) for each group\n",
    "* set relative weights for each group"
   ]
  },
  {
   "cell_type": "markdown",
   "metadata": {
    "slideshow": {
     "slide_type": "subslide"
    }
   },
   "source": [
    "## net_cls and net_prio cgroup\n",
    "\n",
    "* net_cls allows tagging of network packets with their origin cgroup\n",
    "* net_prio allows setting the priority of cgroups for different network interfaces"
   ]
  },
  {
   "cell_type": "markdown",
   "metadata": {
    "slideshow": {
     "slide_type": "subslide"
    }
   },
   "source": [
    "## devices cgroup\n",
    "\n",
    "* What tasks can use what device\n",
    "* Typically, things like\n",
    "  * /dev/{tty,zero,random,null}\n",
    "  * /dev/net/tun\n",
    "  * /dev/fuse\n",
    "  * /dev/dri (GPU)"
   ]
  },
  {
   "cell_type": "markdown",
   "metadata": {
    "slideshow": {
     "slide_type": "subslide"
    }
   },
   "source": [
    "## freezer cgroup\n",
    "\n",
    "* Like SIGSTOP on the container\n",
    "* freeze/thaw a group of processes\n",
    "* process migration\n",
    "* cluster batch scheduling and process migration"
   ]
  },
  {
   "cell_type": "markdown",
   "metadata": {
    "slideshow": {
     "slide_type": "slide"
    }
   },
   "source": [
    "# Linux Namespaces"
   ]
  },
  {
   "cell_type": "markdown",
   "metadata": {
    "slideshow": {
     "slide_type": "subslide"
    }
   },
   "source": [
    "# What are namespaces?\n",
    "\n",
    "* If cgroups limit what you can use, namespaces limit what you can view\n",
    "* Takes a global resource and makes it look like processes have their own\n",
    "* Namespaces\n",
    "  * pid (processes)\n",
    "  * net (network stack)\n",
    "  * mnt (filesystem and mount points)\n",
    "  * uts (hostname)\n",
    "  * ipc (interprocess communication)\n",
    "  * user (user)\n",
    "* each process is in one namespace of each type"
   ]
  },
  {
   "cell_type": "markdown",
   "metadata": {
    "slideshow": {
     "slide_type": "subslide"
    }
   },
   "source": [
    "## pid namespace\n",
    "\n",
    "* see only other process in your pid namespace\n",
    "* pid in and outside of the container"
   ]
  },
  {
   "cell_type": "markdown",
   "metadata": {
    "slideshow": {
     "slide_type": "subslide"
    }
   },
   "source": [
    "## network namespace\n",
    "\n",
    "* processes within a given network namespace get their own private network stack, including\n",
    "  * network interfaces (including lo)\n",
    "  * routing tables\n",
    "  * iptables routes\n",
    "  * sockets (ss, netstate)\n",
    "* you can move a network interface across netns\n",
    "  * have a container that sets up a vpn connection and then moves it across containers"
   ]
  },
  {
   "cell_type": "markdown",
   "metadata": {
    "slideshow": {
     "slide_type": "subslide"
    }
   },
   "source": [
    "## mnt namespace \n",
    "\n",
    "* Processes can have their own root fs\n",
    "* Processes also have \"private\" mounts\n",
    "  * /tmp (scoped per user, per service)\n",
    "* Mounts can be private or shared\n",
    "* Can't pass a mount from a namespace to another"
   ]
  },
  {
   "cell_type": "markdown",
   "metadata": {
    "slideshow": {
     "slide_type": "subslide"
    }
   },
   "source": [
    "## uts namespace\n",
    "\n",
    "* can have your own hostname\n",
    "* isolating kernel and version identifiers"
   ]
  },
  {
   "cell_type": "markdown",
   "metadata": {
    "slideshow": {
     "slide_type": "subslide"
    }
   },
   "source": [
    "## ipc namespace\n",
    "\n",
    "* System V and posix IPC\n",
    "* allows a process to have its own \n",
    "  * IPC semaphores\n",
    "  * IPC message queues\n",
    "  * IPC shared memory\n",
    "* without risk of conflict with other instances"
   ]
  },
  {
   "cell_type": "markdown",
   "metadata": {
    "slideshow": {
     "slide_type": "subslide"
    }
   },
   "source": [
    "## user namespace \n",
    "\n",
    "* map UID/GID inside the container to outside\n",
    "* This is as big topic\n",
    "  * Only recently added to Docker\n",
    "* UIDs 0-1999 in the container are mapped to 10000->11999 on host, etc.\n",
    "* UID in containers becomes irrelevant. Just use UID 0 in the container\n",
    "* It gets squashed to a non-privileged user outside\n",
    "  * Volumes *gotcha*"
   ]
  },
  {
   "cell_type": "markdown",
   "metadata": {
    "slideshow": {
     "slide_type": "slide"
    }
   },
   "source": [
    "# Union Filesystem"
   ]
  },
  {
   "cell_type": "markdown",
   "metadata": {
    "slideshow": {
     "slide_type": "subslide"
    }
   },
   "source": [
    "# What is a Union FS?\n",
    "\n",
    "* This is what makes containers lightweight\n",
    "* Allows different parts of a filesystem to be overlaid as transparent layers\n",
    "* Create a new container instantly instead of copying the whole filesystem\n",
    "* Storage drive keeps track of what has changed\n",
    "* Options\n",
    "  * AUFS, overlay (file level)\n",
    "  * device mapper (block level)\n",
    "  * BTRFS, ZFS (filesystem level)"
   ]
  },
  {
   "cell_type": "markdown",
   "metadata": {
    "slideshow": {
     "slide_type": "slide"
    }
   },
   "source": [
    "# Docker"
   ]
  },
  {
   "cell_type": "markdown",
   "metadata": {
    "slideshow": {
     "slide_type": "subslide"
    }
   },
   "source": [
    "## What is Docker\n",
    "\n",
    "\n",
    "* Docker is a platform that provides abstractions for working with containers and a container runtime\n",
    "* It is not the only way to manage software containers (!)"
   ]
  },
  {
   "cell_type": "markdown",
   "metadata": {
    "slideshow": {
     "slide_type": "subslide"
    }
   },
   "source": [
    "# Docker Architecture\n",
    "\n",
    "![docker architecture](https://docs.docker.com/engine/article-img/architecture.svg)"
   ]
  },
  {
   "cell_type": "markdown",
   "metadata": {
    "slideshow": {
     "slide_type": "subslide"
    }
   },
   "source": [
    "# Docker Images\n",
    "\n",
    "* Read-only template from which containers are instantiated\n",
    "* Images consist of *layers*\n",
    "  * these layers can be shared\n",
    "* The [Union file system](https://en.wikipedia.org/wiki/UnionFS) combines the layers into an image\n",
    "* The image layers are part of what makes docker lightweight\n",
    "* Updating one layer does not need to update other layers"
   ]
  },
  {
   "cell_type": "markdown",
   "metadata": {
    "slideshow": {
     "slide_type": "subslide"
    }
   },
   "source": [
    "## Dockerfile\n",
    "\n",
    "\n",
    "<div style=\"font-size:75%\"><br />\n",
    "```\n",
    "FROM continuumio/miniconda3:4.1.11\n",
    "MAINTAINER <jsseabold>\n",
    "\n",
    "RUN conda update -y conda && \\\n",
    "    conda install -y -c conda-forge -c defaults --show-channel-urls --override-channels \\\n",
    "    conda-build\n",
    "\n",
    "COPY requirements.txt /bootstrap/requirements.txt\n",
    "\n",
    "RUN conda install -y -c conda-forge -c defaults --file \\\n",
    "    /bootstrap/requirements.txt && \\\n",
    "    conda install -c damianavila82 rise && \\\n",
    "    conda clean -tipsy\n",
    "    \n",
    "RUN pip install --user graphviz\n",
    "\n",
    "RUN jupyter nbextension enable --py widgetsnbexdtension && \\\n",
    "    jupyter nbextension install --py rise && \\\n",
    "    jupyter nbextension enable --py rise\n",
    "    \n",
    "EXPOSE 8888\n",
    "\n",
    "ENTRYPOINT [\"bash\", \"-c\", \"jupyter-notebook --no-browser --ip='*'\"]\n",
    "```\n",
    "</div>"
   ]
  },
  {
   "cell_type": "markdown",
   "metadata": {
    "slideshow": {
     "slide_type": "subslide"
    }
   },
   "source": [
    "## FROM\n",
    "\n",
    "```\n",
    "FROM continuumio/miniconda3:4.1.11\n",
    "```\n",
    "\n",
    "* Every Dockerfile needs to start with a `FROM` instruction\n",
    "* Specifies the *base image* and *tag*\n",
    "* Common examples: `ubuntu:16.04`, `debian:jessie`\n",
    "  * debian is recommended as a best practice\n",
    "* docker maintains a list of [Official Repositories](https://hub.docker.com/explore/)"
   ]
  },
  {
   "cell_type": "markdown",
   "metadata": {
    "slideshow": {
     "slide_type": "subslide"
    }
   },
   "source": [
    "## RUN\n",
    "\n",
    "```\n",
    "RUN conda update -y conda && \\\n",
    "    conda install -y -c conda-forge \\\n",
    "                  -c defaults \\\n",
    "                  --show-channel-urls \\\n",
    "                  --override-channels \\\n",
    "    conda-build\n",
    "```\n",
    "\n",
    "* The RUN instruction will execute any commands in a new layer on top of the current image and commit the results\n",
    "* The resulting committed image will be used for the next step in the Dockerfile"
   ]
  },
  {
   "cell_type": "markdown",
   "metadata": {
    "slideshow": {
     "slide_type": "subslide"
    }
   },
   "source": [
    "## RUN\n",
    "\n",
    "* Two forms\n",
    "  * shell form runs the command in a shell `/bin/sh -c`\n",
    "```\n",
    "RUN <command>\n",
    "```\n",
    "  * exec mode\n",
    "```\n",
    "RUN [\"executable\", \"param1\", \"param2\"]\n",
    "```\n",
    "\n",
    "* Since each instruction is a layers, you want to group commands (and do cleanup)"
   ]
  },
  {
   "cell_type": "markdown",
   "metadata": {
    "slideshow": {
     "slide_type": "subslide"
    }
   },
   "source": [
    "## COPY / ADD\n",
    "\n",
    "```\n",
    "COPY requirements.txt /bootstrap/requirements.txt\n",
    "```\n",
    "\n",
    "* The COPY instruction copies new files from the build context and adds them to the filesystem of the container\n",
    "* building an image takes place in a *build context*, most often the directory that contains the Dockerfile\n",
    "* The files must be in the build context\n",
    "  * `COPY ../something` is not valid\n",
    "* ADD is similar to copy but has support for local-only tar extraction and remote URLs\n",
    "* COPY is preferred\n"
   ]
  },
  {
   "cell_type": "markdown",
   "metadata": {
    "slideshow": {
     "slide_type": "subslide"
    }
   },
   "source": [
    "## EXPOSE\n",
    "\n",
    "```\n",
    "EXPOSE 8888\n",
    "```\n",
    "\n",
    "* The EXPOSE instruction informs the container to listen on the specified port\n",
    "* You must use the `--publish` flag to `docker run` to make these ports accessible to the host"
   ]
  },
  {
   "cell_type": "markdown",
   "metadata": {
    "slideshow": {
     "slide_type": "subslide"
    }
   },
   "source": [
    "## CMD / ENTRYPOINT\n",
    "\n",
    "* This is what is executed when you run the container\n",
    "* [Understand how CMD and ENTRYPOINT Interact](https://docs.docker.com/engine/reference/builder/#/understand-how-cmd-and-entrypoint-interact)\n",
    "* Specify at least one\n",
    "  * ENTRYPOINT to treat the container like an executable\n",
    "  * CMD for default arguments to ENTRYPOINT"
   ]
  },
  {
   "cell_type": "markdown",
   "metadata": {
    "slideshow": {
     "slide_type": "subslide"
    }
   },
   "source": [
    "## VOLUME\n",
    "\n",
    "* Docker volumes are a big topic\n",
    "* Launching a container, we have a series of read-only layers with a read-write layer mounted last\n",
    "* When you make changes to a file, that file is copied, but the underlying file exists still in the image\n",
    "* Practically, this means that changes do not persist when you delete a container\n",
    "* *Docker Volumes* exist outside the UFS\n",
    "* You can mount from the host to the container outside the UFS, using the `--volume` flag for `docker run`"
   ]
  },
  {
   "cell_type": "markdown",
   "metadata": {
    "slideshow": {
     "slide_type": "slide"
    }
   },
   "source": [
    "# Putting It All Together"
   ]
  },
  {
   "cell_type": "markdown",
   "metadata": {
    "slideshow": {
     "slide_type": "subslide"
    }
   },
   "source": [
    "## Docker Compose\n",
    "\n",
    "* A tool for building more complex, multi-container applications\n",
    "* Use a single-command to spin up this applications"
   ]
  },
  {
   "cell_type": "markdown",
   "metadata": {
    "slideshow": {
     "slide_type": "subslide"
    }
   },
   "source": [
    "## Dask Distributed\n",
    "\n",
    "* Dask-Distributed defined using a docker-compose file\n",
    "\n",
    "```\n",
    "docker-compose --project-name dask-distributed \\\n",
    "               up -d\n",
    "docker-compose -p dask-distributed scale dask-worker=4\n",
    "```\n",
    "\n",
    "* Very useful for proto-typing running dask applications in a truly distributed environment"
   ]
  },
  {
   "cell_type": "markdown",
   "metadata": {
    "slideshow": {
     "slide_type": "subslide"
    }
   },
   "source": [
    "# Python Tools\n",
    "\n",
    "* [nsenter](https://github.com/zalando/python-nsenter)\n",
    "  * Enter namespaces with a context manager\n",
    "* [docker-py](https://github.com/docker/docker-py)\n",
    "  * Python docker client"
   ]
  },
  {
   "cell_type": "markdown",
   "metadata": {
    "slideshow": {
     "slide_type": "slide"
    }
   },
   "source": [
    "# Resources\n",
    "\n",
    "* [Redhat's Resource Management Guide](https://access.redhat.com/documentation/en-US/Red_Hat_Enterprise_Linux/6/html/Resource_Management_Guide/index.html)\n",
    "* [Kernel Documentation for cgroups v1](https://www.kernel.org/doc/Documentation/cgroup-v1/)\n",
    "* [cgroups, namespaces, and beyond: what are containers made from](https://www.youtube.com/watch?v=sK5i-N34im8)\n",
    "* [Deep dive into Docker storage drivers](https://jpetazzo.github.io/assets/2015-03-03-not-so-deep-dive-into-docker-storage-drivers.html#1)\n",
    "* [namespace man page](http://man7.org/linux/man-pages/man7/namespaces.7.html)\n",
    "* [Docker documentation](https://docs.docker.com)\n",
    "* [Best practices for writing Dockerfiles](https://docs.docker.com/engine/userguide/eng-image/dockerfile_best-practices/)\n",
    "* [You Could Have Invented Containers: An Explanatory Fantasy](https://medium.com/@gtrevorjay/you-could-have-invented-container-runtimes-an-explanatory-fantasy-764c5b389bd3#.svjwa71rv)"
   ]
  }
 ],
 "metadata": {
  "celltoolbar": "Slideshow",
  "kernelspec": {
   "display_name": "Python 3",
   "language": "python",
   "name": "python3"
  },
  "language_info": {
   "codemirror_mode": {
    "name": "ipython",
    "version": 3
   },
   "file_extension": ".py",
   "mimetype": "text/x-python",
   "name": "python",
   "nbconvert_exporter": "python",
   "pygments_lexer": "ipython3",
   "version": "3.7.6"
  }
 },
 "nbformat": 4,
 "nbformat_minor": 1
}
